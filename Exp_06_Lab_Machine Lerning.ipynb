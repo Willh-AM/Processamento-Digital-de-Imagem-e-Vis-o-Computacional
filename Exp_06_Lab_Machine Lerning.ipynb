{
  "nbformat": 4,
  "nbformat_minor": 5,
  "metadata": {
    "kernelspec": {
      "display_name": "Python 3",
      "language": "python",
      "name": "python3"
    },
    "language_info": {
      "codemirror_mode": {
        "name": "ipython",
        "version": 3
      },
      "file_extension": ".py",
      "mimetype": "text/x-python",
      "name": "python",
      "nbconvert_exporter": "python",
      "pygments_lexer": "ipython3",
      "version": "3.6.12"
    },
    "colab": {
      "name": "Exp. 06 - Lab. Introdução ao Processamento Digital de Imagens e Visão Computacional sem Resp.ipynb",
      "provenance": [],
      "collapsed_sections": []
    }
  },
  "cells": [
    {
      "cell_type": "markdown",
      "metadata": {
        "id": "P_YPhGn6DqRA"
      },
      "source": [
        "<img src=\"https://www.anped.org.br/sites/default/files/images/ufcg-lateral.png\" width=\"780\" height=\"240\" align=\"center\"/>"
      ],
      "id": "P_YPhGn6DqRA"
    },
    {
      "cell_type": "markdown",
      "metadata": {
        "id": "3y0RikX2DqRE"
      },
      "source": [
        "## Centro de Engenharia Elétrica e Informática\n",
        "## Departamento de Engenharia Elétrica\n",
        "## Disciplina: Int. ao Processamento de Imagem Digital e Visão Computacional\n",
        "## Professora: Luciana Veloso\n",
        "## Aluno(a): William Henrique A. Martins"
      ],
      "id": "3y0RikX2DqRE"
    },
    {
      "cell_type": "markdown",
      "metadata": {
        "id": "iD7o7jYQDqRF"
      },
      "source": [
        "# Experimento 06: Redes Neurais Artificiais"
      ],
      "id": "iD7o7jYQDqRF"
    },
    {
      "cell_type": "code",
      "metadata": {
        "id": "xd7HHr2JDqRF"
      },
      "source": [
        "import os                                             # Operational System para manipulação de arquivos.\n",
        "import cv2                                            # OpenCV para manipulação de imagens.\n",
        "import numpy as np                                    # Numpy para manipulação de matrizes e arrays.\n",
        "import matplotlib.pyplot as plt                       # Pyplot para plotagem de gráficos e imagens.\n",
        "from sklearn.model_selection import train_test_split  # Função para particionamento dos dados\n",
        "\n",
        "from tensorflow.keras.models import Sequential        # Classe de modelos sequenciais para construir as redes neurais.\n",
        "from tensorflow.keras.layers import Dense, Input      # Camada de neurônios densamente conectados.\n",
        "from tensorflow.keras.optimizers import SGD           # Otimizador \"Descida do Gradiente com Momento\".\n",
        "from tensorflow.keras.datasets import boston_housing  # Dataset utilizado nesse experimento."
      ],
      "id": "xd7HHr2JDqRF",
      "execution_count": 1,
      "outputs": []
    },
    {
      "cell_type": "markdown",
      "metadata": {
        "id": "9DABnOD-DqRG"
      },
      "source": [
        "## 1. Banco de Dados\n",
        "\n",
        "* Vamos utilizar um banco de dados do catálogo de datasets do Keras, que é disponibilizado como uma função pronta;\n",
        "\n",
        "* Cada instância do banco de dados corresponde a um conjunto de 13 valores referentes a características de subúrbios de Boston na década de 1970, a exemplo de taxa de crimes, imposto sobre propriedade, etc;\n",
        "\n",
        "* Esses valores serão utilizados para calcular o valor mediano das residências no respectivo subúrbio em um problema de regressão, de modo que iremos mapear um vetor de entrada com 13 valores em um vetor de saída com 1 único elemento;\n",
        "\n",
        "* O banco de dados contém 506 valores divididos em 404 instâncias de treino e 102 de teste;\n",
        "\n",
        "* Uma descrição mais detalhada dos valores de entrada pode ser vista em http://lib.stat.cmu.edu/datasets/boston, onde os valores são descritos na ordem que aparecem;"
      ],
      "id": "9DABnOD-DqRG"
    },
    {
      "cell_type": "markdown",
      "metadata": {
        "id": "NKNQBIRGDqRH"
      },
      "source": [
        "### 1.1 Organização do banco de dados\n",
        "\n",
        "* Comumente os dados utilizados no treinamento de modelos de inteligência artificial reservam a primeira dimensão para controlar a amostra e espalham o tipo de dado utilizado nas demais dimensões do tensor. \n",
        "\n",
        "\n",
        "* Nesse caso, os nossos dados são vetores de características unidimensionais (1D), de modo que são organizados em tensores bidimensionais (2D) com formato: **dados.shape = (amostras, características)**\n",
        "    * O i-ésimo exemplo pode ser acessado a partir de: **exemplo = dados[i]**\n",
        "    * A j-ésima característica dos exemplos pode ser acessada a partir de: **caracteristica = dados[:, j]**\n",
        "    * Porções do tensor podem ser acessadas utilizando fatiamento, por exemplo:\n",
        "        * primeiros_5_exemplos = dados[:5]\n",
        "        * caracteristicas_9a13 = dados[8:13]\n",
        "        \n",
        "\n",
        "* Lembrem-se que a contagem de índices em Python começa em 0 e só é inclusiva no primeiro elemento:\n",
        "    * **:5** produz os índices **0, 1, 2, 3, 4** \n",
        "    * **8:13** produz os índices **8, 9, 10, 11, 12** \n",
        "        "
      ],
      "id": "NKNQBIRGDqRH"
    },
    {
      "cell_type": "markdown",
      "metadata": {
        "id": "648vZLTsDqRI"
      },
      "source": [
        "* O banco de dados pode ser carregado utilizando:\n",
        "    * **(train_data, train_targets), (test_data, test_targets) = boston_housing.load_data()**\n",
        "    * train_data é um tensor com as entradas do conjunto de treino;\n",
        "    * test_data é um tensor com as entradas do conjunto de teste;\n",
        "    * train_targets é um tensor com os gabaritos do conjunto de treino;\n",
        "    * test_targets é um tensor com os gabaritos do conjunto de teste;"
      ],
      "id": "648vZLTsDqRI"
    },
    {
      "cell_type": "markdown",
      "metadata": {
        "id": "7bG5dAZwDqRI"
      },
      "source": [
        "**a. O código abaixo carrega o banco de dados, acesse alguns exemplos de treinamento e de teste e veja suas dimensões.**\n",
        "\n",
        "* Use índices entre **[0, 404)** para os dados de treino e entre **[0, 102)** para os de teste."
      ],
      "id": "7bG5dAZwDqRI"
    },
    {
      "cell_type": "code",
      "metadata": {
        "id": "ZGIplvfqDqRJ",
        "colab": {
          "base_uri": "https://localhost:8080/"
        },
        "outputId": "b2bd0ce7-b9d2-4f7d-cb32-1d14d973b7da"
      },
      "source": [
        "(train_data, train_targets), (test_data, test_targets) = boston_housing.load_data()"
      ],
      "id": "ZGIplvfqDqRJ",
      "execution_count": 2,
      "outputs": [
        {
          "output_type": "stream",
          "name": "stdout",
          "text": [
            "Downloading data from https://storage.googleapis.com/tensorflow/tf-keras-datasets/boston_housing.npz\n",
            "57344/57026 [==============================] - 0s 0us/step\n",
            "65536/57026 [==================================] - 0s 0us/step\n"
          ]
        }
      ]
    },
    {
      "cell_type": "markdown",
      "metadata": {
        "id": "ePv4PGGODqRJ"
      },
      "source": [
        "**b. Verifique as dimensões e as faixas de valores de cada característica nos vetores de entrada dos conjuntos de treino e de teste. A faixa de valores das características são semelhantes? E os dados de treino e de teste?**\n",
        "\n",
        "* Encontre os valores mínimo/máximo além da média (np.mean) e da variância (np.var) de cada uma das 13 características.\n",
        "* Sugestão: leia sobre o parâmetro \"axis\" na documentação das funções np.min, np.max e np.mean."
      ],
      "id": "ePv4PGGODqRJ"
    },
    {
      "cell_type": "code",
      "metadata": {
        "colab": {
          "base_uri": "https://localhost:8080/"
        },
        "id": "0_0cQJcjDqRJ",
        "outputId": "92fd0d30-90f9-4b88-ae09-eb8cc2466b65"
      },
      "source": [
        "train_data.shape\n",
        "# 404 instâncias\n",
        "# 13 caractéristicas\n",
        "test_data.shape\n",
        "# 102 instâncias\n",
        "# 13 caractéristicas\n",
        "\n",
        "print('nº de caratéristicas: \\n\\t Train data: {} \\n\\t Test Data: {} '.format(train_data.shape[1], test_data.shape[1]))\n",
        "\n",
        "\n",
        "min = np.min(train_data, axis = 0)\n",
        "max = np.max(train_data, axis = 0)\n",
        "mean = np.mean(train_data, axis = 0)\n",
        "std = np.std(train_data, axis = 0)\n",
        "print('\\nCONJUNTO DE TREINO\\n')\n",
        "for i in range(0, test_data.shape[1]): \n",
        "  print('{} - Limite: [{:.2f},{:.2f}], com Média {:.2f} e Variância {:.2f}'.format(f'caractéristica {i}', min[i], max[i], mean[i], std[i]))\n",
        "\n",
        "\n",
        "min = np.min(test_data, axis = 0)\n",
        "max = np.max(test_data, axis = 0)\n",
        "mean = np.mean(test_data, axis = 0)\n",
        "std = np.std(test_data, axis = 0)\n",
        "print('\\nCONJUNTO DE TESTE')\n",
        "for i in range(0, test_data.shape[1]): \n",
        "  print('{} - Limite: [{:.2f},{:.2f}], com Média {:.2f} e Variância {:.2f}'.format(f'caractéristica {i}', min[i], max[i], mean[i], std[i]))"
      ],
      "id": "0_0cQJcjDqRJ",
      "execution_count": 3,
      "outputs": [
        {
          "output_type": "stream",
          "name": "stdout",
          "text": [
            "nº de caratéristicas: \n",
            "\t Train data: 13 \n",
            "\t Test Data: 13 \n",
            "\n",
            "CONJUNTO DE TREINO\n",
            "\n",
            "caractéristica 0 - Limite: [0.01,88.98], com Média 3.75 e Variância 9.23\n",
            "caractéristica 1 - Limite: [0.00,100.00], com Média 11.48 e Variância 23.74\n",
            "caractéristica 2 - Limite: [0.46,27.74], com Média 11.10 e Variância 6.80\n",
            "caractéristica 3 - Limite: [0.00,1.00], com Média 0.06 e Variância 0.24\n",
            "caractéristica 4 - Limite: [0.39,0.87], com Média 0.56 e Variância 0.12\n",
            "caractéristica 5 - Limite: [3.56,8.72], com Média 6.27 e Variância 0.71\n",
            "caractéristica 6 - Limite: [2.90,100.00], com Média 69.01 e Variância 27.91\n",
            "caractéristica 7 - Limite: [1.13,10.71], com Média 3.74 e Variância 2.03\n",
            "caractéristica 8 - Limite: [1.00,24.00], com Média 9.44 e Variância 8.69\n",
            "caractéristica 9 - Limite: [188.00,711.00], com Média 405.90 e Variância 166.17\n",
            "caractéristica 10 - Limite: [12.60,22.00], com Média 18.48 e Variância 2.20\n",
            "caractéristica 11 - Limite: [0.32,396.90], com Média 354.78 e Variância 93.99\n",
            "caractéristica 12 - Limite: [1.73,37.97], com Média 12.74 e Variância 7.25\n",
            "\n",
            "CONJUNTO DE TESTE\n",
            "caractéristica 0 - Limite: [0.01,25.05], com Média 3.09 e Variância 5.35\n",
            "caractéristica 1 - Limite: [0.00,90.00], com Média 10.90 e Variância 21.47\n",
            "caractéristica 2 - Limite: [1.22,27.74], com Média 11.26 e Variância 7.05\n",
            "caractéristica 3 - Limite: [0.00,1.00], com Média 0.10 e Variância 0.30\n",
            "caractéristica 4 - Limite: [0.39,0.87], com Média 0.54 e Variância 0.11\n",
            "caractéristica 5 - Limite: [4.88,8.78], com Média 6.35 e Variância 0.67\n",
            "caractéristica 6 - Limite: [6.00,100.00], com Média 66.85 e Variância 28.89\n",
            "caractéristica 7 - Limite: [1.47,12.13], com Média 4.01 e Variância 2.37\n",
            "caractéristica 8 - Limite: [1.00,24.00], com Média 9.98 e Variância 8.73\n",
            "caractéristica 9 - Limite: [187.00,711.00], com Média 417.50 e Variância 176.52\n",
            "caractéristica 10 - Limite: [13.00,21.20], com Média 18.37 e Variância 2.02\n",
            "caractéristica 11 - Limite: [24.65,396.90], com Média 364.16 e Variância 78.75\n",
            "caractéristica 12 - Limite: [1.92,31.99], com Média 12.31 e Variância 6.66\n"
          ]
        }
      ]
    },
    {
      "cell_type": "markdown",
      "metadata": {
        "id": "Cxgy8FoJbKTp"
      },
      "source": [
        "<font color=yellow>\n",
        "Os conjuntos são divididos randomicamente, mas percebe-se uma certa concordancia entre os dados dos conjuntos de treino  e teste. Ou seja, as faixas de valores distoa um pouco para algumas caractéristicas, mas possuem outros parâmentros concordantes.\n",
        "</font>"
      ],
      "id": "Cxgy8FoJbKTp"
    },
    {
      "cell_type": "code",
      "metadata": {
        "colab": {
          "base_uri": "https://localhost:8080/"
        },
        "id": "-6RlfkvTbcIZ",
        "outputId": "d5908c23-cdcf-4c58-c071-1e286b59202d"
      },
      "source": [
        "\n",
        "min = np.min(train_targets)\n",
        "print(min)"
      ],
      "id": "-6RlfkvTbcIZ",
      "execution_count": 4,
      "outputs": [
        {
          "output_type": "stream",
          "name": "stdout",
          "text": [
            "5.0\n"
          ]
        }
      ]
    },
    {
      "cell_type": "markdown",
      "metadata": {
        "id": "D2puf8XTDqRK"
      },
      "source": [
        "**c. Verifique as dimensões e as faixas de valores dos gabaritos dos conjuntos de treino e de teste. Os valores encontrados são semelhantes?**"
      ],
      "id": "D2puf8XTDqRK"
    },
    {
      "cell_type": "code",
      "metadata": {
        "id": "q5txP0WBDqRK",
        "colab": {
          "base_uri": "https://localhost:8080/"
        },
        "outputId": "2eac8b0e-a318-4689-e018-bb5dd0ce03b3"
      },
      "source": [
        "print('nº de caratéristicas: \\n\\t Train data: {} \\n\\t Test Data: {} '.format(len(train_targets), len(test_targets)))\n",
        "\n",
        "min = np.min(train_targets, axis = 0)\n",
        "max = np.max(train_targets, axis = 0)\n",
        "mean = np.mean(train_targets, axis = 0)\n",
        "std = np.std(train_targets, axis = 0)\n",
        "print('\\nGABARITO DE TREINO\\n')\n",
        "print('{} - Limite: [{:.2f},{:.2f}], com Média {:.2f} e Variância {:.2f}'.format('train_targets', min, max, mean, std))\n",
        "\n",
        "\n",
        "min = np.min(test_targets, axis = 0)\n",
        "max = np.max(test_targets, axis = 0)\n",
        "mean = np.mean(test_targets, axis = 0)\n",
        "std = np.std(test_targets, axis = 0)\n",
        "print('\\GABARITO DE TESTE')\n",
        "print('{} - Limite: [{:.2f},{:.2f}], com Média {:.2f} e Variância {:.2f}'.format('test_targets', min, max, mean, std))"
      ],
      "id": "q5txP0WBDqRK",
      "execution_count": 5,
      "outputs": [
        {
          "output_type": "stream",
          "name": "stdout",
          "text": [
            "nº de caratéristicas: \n",
            "\t Train data: 404 \n",
            "\t Test Data: 102 \n",
            "\n",
            "GABARITO DE TREINO\n",
            "\n",
            "train_targets - Limite: [5.00,50.00], com Média 22.40 e Variância 9.20\n",
            "\\GABARITO DE TESTE\n",
            "test_targets - Limite: [5.60,50.00], com Média 23.08 e Variância 9.12\n"
          ]
        }
      ]
    },
    {
      "cell_type": "markdown",
      "metadata": {
        "id": "NbeBq7PPdFCx"
      },
      "source": [
        "<font color='yellow'>\n",
        "Os números de instâncias dos data target e do train data são iguais a seus respectivos conjuntos de treino\n",
        "</font>"
      ],
      "id": "NbeBq7PPdFCx"
    },
    {
      "cell_type": "markdown",
      "metadata": {
        "id": "mhBtLK3FDqRK"
      },
      "source": [
        "### 1.2 Pre-processamento dos dados\n",
        "\n",
        "* Dados cujas características assumem diferentes faixas de valores muitas vezes são problemáticos para o aprendizado dos modelos e podem reduzir a velocidade de convergência ou até mesmo limitar as capacidades do modelo final.\n",
        "\n",
        "* Nesse sentido, uma prática comum é a normalização dos dados antes do treinamento, que geralmente é feito por característica em forma da subtração da média e divisão pelo desvio padrão, o que faz com que os dados resultantes tenham média 0 e variância 1.\n",
        "\n",
        "* Um ponto muito importante é que a normalização deve ser feita partir dos mesmos valores em todos os conjuntos, ou seja, os dados são normalizados segundo informações do conjunto de treino.\n",
        "\n",
        "* Na prática não temos como calcular a média e variância real, mas se os dados de treino são significativos os seus valores são suficientes."
      ],
      "id": "mhBtLK3FDqRK"
    },
    {
      "cell_type": "code",
      "metadata": {
        "id": "aRtJdTRQDqRL"
      },
      "source": [
        "# Calcula a média do conjunto de treino\n",
        "mean = train_data.mean(axis=0)\n",
        "\n",
        "# Calcula o desvio padrão do conjunto de treino\n",
        "std = train_data.std(axis=0)\n",
        "\n",
        "# Normaliza os dados de treino\n",
        "train_data -= mean\n",
        "train_data /= std\n",
        "\n",
        "# Normaliza os dados de teste\n",
        "test_data -= mean\n",
        "test_data /= std"
      ],
      "id": "aRtJdTRQDqRL",
      "execution_count": 6,
      "outputs": []
    },
    {
      "cell_type": "markdown",
      "metadata": {
        "id": "GTQS4AzrDqRL"
      },
      "source": [
        "**d. Repita o item b para os dados normalizados. O que se observa quantos aos valores de média e variância para os dados de treino e teste? Comente a sua interpretação sobre as diferenças observadas.**"
      ],
      "id": "GTQS4AzrDqRL"
    },
    {
      "cell_type": "code",
      "metadata": {
        "id": "-ppS_7EADqRL"
      },
      "source": [
        "nmean = train_data.mean(axis = 0)\n",
        "nstd = train_data.std(axis = 0)"
      ],
      "id": "-ppS_7EADqRL",
      "execution_count": 7,
      "outputs": []
    },
    {
      "cell_type": "markdown",
      "metadata": {
        "id": "EYa9f4XDDqRL"
      },
      "source": [
        "Agora vamos criar uma partição de validação a partir do conjunto de treino para realizar uma validação cruzada. Vamos utilizar a função **train_test_split**, que separa dados e os seus respectivos gabaritos segundo uma fração especificada."
      ],
      "id": "EYa9f4XDDqRL"
    },
    {
      "cell_type": "code",
      "metadata": {
        "id": "kAqrcD5bDqRL",
        "colab": {
          "base_uri": "https://localhost:8080/"
        },
        "outputId": "bda683ff-e213-4eea-9b71-f5e338aade89"
      },
      "source": [
        "# Fração escolhida para separar o mesmo número de instâncias do conjunto de testes\n",
        "data_frac = test_data.shape[0] / train_data.shape[0]\n",
        "\n",
        "# Criação do conjunto de validação\n",
        "train_data, val_data, train_targets, val_targets = train_test_split(train_data,             # Dados de treino\n",
        "                                                                    train_targets,          # Gabaritos de treino\n",
        "                                                                    test_size = data_frac,  # Proporção de dados p/ validação\n",
        "                                                                    random_state=42)        # Semente para garantir consistencia nos resultados\n",
        "\n",
        "print(\"treino:\", train_data.shape, train_targets.shape)\n",
        "print(\"validação:\", val_data.shape, val_targets.shape)"
      ],
      "id": "kAqrcD5bDqRL",
      "execution_count": 8,
      "outputs": [
        {
          "output_type": "stream",
          "name": "stdout",
          "text": [
            "treino: (302, 13) (302,)\n",
            "validação: (102, 13) (102,)\n"
          ]
        }
      ]
    },
    {
      "cell_type": "markdown",
      "metadata": {
        "id": "Wp15lAZeDqRM"
      },
      "source": [
        "### 1.2 Construindo o modelo\n",
        "\n",
        "Para construir o modelo usaremos a classe **Sequential**, que possibilita a construção de modelos sequenciais de forma bastante simples.\n",
        "* A construção do modelo é feita a partir do seu instanciamento como objeto da classe seguido de chamadas à função **add()** para adicionar camadas.\n",
        "* Como estamos construindo apenas Redes Neurais Artificiais por enquanto, vamos utilizar apenas as camadas **Dense** e **Input**.\n",
        "    * A camada Input cria a entrada da rede com **Input( shape = None )**\n",
        "        * shape corresponde ao formato do tensor de entrada, no nosso caso será o número de características do nosso banco de dados (13);\n",
        "    * A camada Dense pode ser chamada com **Dense( n_unidades, activation = 'linear' )**\n",
        "        * n_unidades corresponde ao número de neurônios da camada;\n",
        "        * activation corresponde à função de ativação utilizada na camada;\n",
        "* Algumas funções de ativação disponíveis são:\n",
        "    * \"linear\"\n",
        "    * \"relu\"\n",
        "    * \"sigmoid\"\n",
        "    * \"softmax\"\n",
        "    * \"tanh\"\n",
        "\n",
        "\n",
        "* Mais informações sobre a camada dense podem ser vistas em **https://keras.io/api/layers/core_layers/dense/**\n",
        "* Mais informações sobre as ativações disponíveis podem ser vistas em **https://keras.io/api/layers/activations/**"
      ],
      "id": "Wp15lAZeDqRM"
    },
    {
      "cell_type": "markdown",
      "metadata": {
        "id": "eTZULVYJDqRM"
      },
      "source": [
        "**e. A função abaixo constroi um modelo de rede neural e utiliza a função summary() para apresentar um resumo das informações da rede neural produzida. Comente o que faz cada linha do código.**\n",
        "\n",
        "* Modifique parâmetros como o número de unidades de cada camada e/ou o formato do tensor de entrada e/ou o número de saídas. \n",
        "* Explique como o número de parâmetros de cada camada é calculado."
      ],
      "id": "eTZULVYJDqRM"
    },
    {
      "cell_type": "code",
      "metadata": {
        "id": "Rc0UTacsDqRM",
        "colab": {
          "base_uri": "https://localhost:8080/"
        },
        "outputId": "87dadbc9-f762-41a6-b9d1-5d307897d9bf"
      },
      "source": [
        "def build_model( n_inputs, n_outputs ):\n",
        "    rede = Sequential() # Cria um modelo sequencial \n",
        "    rede.add( Dense( 64, activation = \"relu\", input_shape = (n_inputs, ) ) ) # adiciona uma camada densa com a função relu com 13 entradas\n",
        "    rede.add( Dense( 64, activation = \"relu\") ) # adiciona uma camada densa com a função relu com entradas referentes as saídas da camada anterior\n",
        "    rede.add( Dense( n_outputs ) ) # adiciona uma camada densa que possuí n saídas e entradas referentes anteriores\n",
        "    return rede\n",
        "\n",
        "model = build_model( 13, 1 ) # monta o modelo\n",
        "model.summary()"
      ],
      "id": "Rc0UTacsDqRM",
      "execution_count": 9,
      "outputs": [
        {
          "output_type": "stream",
          "name": "stdout",
          "text": [
            "Model: \"sequential\"\n",
            "_________________________________________________________________\n",
            "Layer (type)                 Output Shape              Param #   \n",
            "=================================================================\n",
            "dense (Dense)                (None, 64)                896       \n",
            "_________________________________________________________________\n",
            "dense_1 (Dense)              (None, 64)                4160      \n",
            "_________________________________________________________________\n",
            "dense_2 (Dense)              (None, 1)                 65        \n",
            "=================================================================\n",
            "Total params: 5,121\n",
            "Trainable params: 5,121\n",
            "Non-trainable params: 0\n",
            "_________________________________________________________________\n"
          ]
        }
      ]
    },
    {
      "cell_type": "markdown",
      "metadata": {
        "id": "c2PyRVutDqRN"
      },
      "source": [
        "**f. Nesse caso utilizamos uma saída com ativação linear. Qual seria a desvantagem de utilizar esse tipo de ativação nas demais camadas?**"
      ],
      "id": "c2PyRVutDqRN"
    },
    {
      "cell_type": "markdown",
      "metadata": {
        "id": "HGkZgL2AfOZR"
      },
      "source": [
        "<font color='yellow'>\n",
        "Se utilizarmos uma função de ativação linear nas demais camadas, o no conjunto seria combinação linear da camada anterior, o que poderia ser representa como uma rede de unica camada.\n",
        "</font>"
      ],
      "id": "HGkZgL2AfOZR"
    },
    {
      "cell_type": "markdown",
      "metadata": {
        "id": "v20NhFGFfKaB"
      },
      "source": [
        ""
      ],
      "id": "v20NhFGFfKaB"
    },
    {
      "cell_type": "markdown",
      "metadata": {
        "id": "ZLzRptFYDqRN"
      },
      "source": [
        "Após a construção do modelo ele deve ser compilado antes que os parâmetros sejam treinados. Isso é feito utilizando a função **compile**:\n",
        "\n",
        "* **model.compile( optimizer = opt, loss = fperdas, metrics = [] )** \n",
        "    * O optimizer é o algoritmo otimizador utilizado no lugar da descida do gradiente, o Keras oferece diversas opções;\n",
        "        * Para treinar a partir da descida do gradiente utilizaremos o SGD (descida do gradiente com momento), mas setaremos esse parâmetro para 0.\n",
        "        * **opt = SGD( learning_rate = taxa_de_aprendizagem, momentum = 0 )**\n",
        "    * A função de perdas pode ser definida a partir do parâmetro loss, como este é um problema de regressão utilizaremos o erro médio quadrático: \n",
        "        * **loss = \"mse\"**\n",
        "    * Podemos passar uma lista de métricas a serem computadas durante o treinamento, nesse caso utilizaremos o erro médio absoluto:\n",
        "        * **metrics = [\"mae\"]**\n",
        "        * Note que estamos passando uma lista com uma única métrica, mas outras poderiam ser adicionadas à lista.\n",
        "         \n",
        "         \n",
        "\n",
        "* Algoritmos otimizadores populares são o Adam (**https://keras.io/api/optimizers/adam/**) e o RMSprop(**https://keras.io/api/optimizers/rmsprop/**)\n",
        "* Mais informações sobre os otimizadores disponíveis podem ser vistas em **https://keras.io/api/optimizers/**\n",
        "* Mais informações sobre as funções de perdas disponíveis podem ser vistas em **https://keras.io/api/losses/**\n",
        "* Mais informações sobre as métricas disponíveis podem ser vistas em **https://keras.io/api/metrics/**\n",
        "\n"
      ],
      "id": "ZLzRptFYDqRN"
    },
    {
      "cell_type": "code",
      "metadata": {
        "id": "DuHI5EyQDqRN",
        "colab": {
          "base_uri": "https://localhost:8080/"
        },
        "outputId": "676f0532-4fa7-4eb6-fb5b-1853552178a0"
      },
      "source": [
        "model = build_model( 13, 1 )\n",
        "model.compile( optimizer = SGD(learning_rate=0.001, momentum=0.0), loss = \"mse\", metrics=[\"mae\"] )\n",
        "model.summary()"
      ],
      "id": "DuHI5EyQDqRN",
      "execution_count": 10,
      "outputs": [
        {
          "output_type": "stream",
          "name": "stdout",
          "text": [
            "Model: \"sequential_1\"\n",
            "_________________________________________________________________\n",
            "Layer (type)                 Output Shape              Param #   \n",
            "=================================================================\n",
            "dense_3 (Dense)              (None, 64)                896       \n",
            "_________________________________________________________________\n",
            "dense_4 (Dense)              (None, 64)                4160      \n",
            "_________________________________________________________________\n",
            "dense_5 (Dense)              (None, 1)                 65        \n",
            "=================================================================\n",
            "Total params: 5,121\n",
            "Trainable params: 5,121\n",
            "Non-trainable params: 0\n",
            "_________________________________________________________________\n"
          ]
        }
      ]
    },
    {
      "cell_type": "markdown",
      "metadata": {
        "id": "O4C8MJZKDqRO"
      },
      "source": [
        "### 1.3 Treinando o modelo\n",
        "\n",
        "O treinamento é realizado a partir da função **fit**, que recebe dados de treino e de validação além de hiperparâmetros como o número de épocas e o tamanho dos lotes de dados (batchsize).\n",
        "\n",
        "* **hist = model.fit( x = None, y = None, epochs = 1, batchsize = None, validation_data = None, verbose = \"auto\")**\n",
        "    * x corresponde aos dados de treino;\n",
        "    * y corresponde aos gabaritos de treino;\n",
        "    * epochs corresponde ao número de épocas de treinamento;\n",
        "    * batchsize corresponde ao tamanho dos lotes entregues à rede de cada vez;\n",
        "    * validation_data corresponde a uma tupla ( val_data, val_targets ) com os dados de validação;\n",
        "    * verbose indica como a função deve reportar os resultados:\n",
        "        * 0: modo silencioso, nenhum retorno em formato de texto;\n",
        "        * 1: retorno a cada época e barra de progresso;\n",
        "        * 2: retorno a cada época sem barra de progresso;\n",
        "    * hist é um dicionário de retorno com os valores de loss e das métricas computadas para treino e validação;"
      ],
      "id": "O4C8MJZKDqRO"
    },
    {
      "cell_type": "code",
      "metadata": {
        "scrolled": true,
        "id": "Gmhr-wwaDqRO",
        "colab": {
          "base_uri": "https://localhost:8080/"
        },
        "outputId": "6532860c-4566-4efd-87d0-fbf8b0c70713"
      },
      "source": [
        "hist = model.fit( x = train_data, \n",
        "                  y = train_targets, \n",
        "                  epochs = 100, \n",
        "                  batch_size = 32, \n",
        "                  validation_data = ( val_data, val_targets ), \n",
        "                  verbose = 1)"
      ],
      "id": "Gmhr-wwaDqRO",
      "execution_count": 11,
      "outputs": [
        {
          "output_type": "stream",
          "name": "stdout",
          "text": [
            "Epoch 1/100\n",
            "10/10 [==============================] - 1s 20ms/step - loss: 524.5849 - mae: 21.0093 - val_loss: 291.0752 - val_mae: 15.4410\n",
            "Epoch 2/100\n",
            "10/10 [==============================] - 0s 5ms/step - loss: 173.6250 - mae: 10.6190 - val_loss: 73.6277 - val_mae: 6.9674\n",
            "Epoch 3/100\n",
            "10/10 [==============================] - 0s 4ms/step - loss: 61.0815 - mae: 5.6440 - val_loss: 39.2404 - val_mae: 4.9275\n",
            "Epoch 4/100\n",
            "10/10 [==============================] - 0s 4ms/step - loss: 40.3301 - mae: 4.5378 - val_loss: 25.9560 - val_mae: 3.8117\n",
            "Epoch 5/100\n",
            "10/10 [==============================] - 0s 6ms/step - loss: 31.0991 - mae: 3.8394 - val_loss: 20.1330 - val_mae: 3.3033\n",
            "Epoch 6/100\n",
            "10/10 [==============================] - 0s 3ms/step - loss: 26.4128 - mae: 3.5602 - val_loss: 18.9914 - val_mae: 3.1228\n",
            "Epoch 7/100\n",
            "10/10 [==============================] - 0s 4ms/step - loss: 23.3863 - mae: 3.2375 - val_loss: 16.1864 - val_mae: 3.0027\n",
            "Epoch 8/100\n",
            "10/10 [==============================] - 0s 4ms/step - loss: 21.0159 - mae: 3.1108 - val_loss: 14.9882 - val_mae: 2.7704\n",
            "Epoch 9/100\n",
            "10/10 [==============================] - 0s 3ms/step - loss: 19.5917 - mae: 2.9435 - val_loss: 13.4647 - val_mae: 2.6603\n",
            "Epoch 10/100\n",
            "10/10 [==============================] - 0s 4ms/step - loss: 17.7870 - mae: 2.8038 - val_loss: 12.4472 - val_mae: 2.5820\n",
            "Epoch 11/100\n",
            "10/10 [==============================] - 0s 3ms/step - loss: 17.0233 - mae: 2.7971 - val_loss: 11.7524 - val_mae: 2.4797\n",
            "Epoch 12/100\n",
            "10/10 [==============================] - 0s 3ms/step - loss: 16.5762 - mae: 2.7436 - val_loss: 11.7478 - val_mae: 2.5131\n",
            "Epoch 13/100\n",
            "10/10 [==============================] - 0s 4ms/step - loss: 15.9979 - mae: 2.7127 - val_loss: 10.9575 - val_mae: 2.3727\n",
            "Epoch 14/100\n",
            "10/10 [==============================] - 0s 5ms/step - loss: 15.2319 - mae: 2.6480 - val_loss: 10.5445 - val_mae: 2.3195\n",
            "Epoch 15/100\n",
            "10/10 [==============================] - 0s 4ms/step - loss: 14.8978 - mae: 2.6021 - val_loss: 10.6717 - val_mae: 2.3741\n",
            "Epoch 16/100\n",
            "10/10 [==============================] - 0s 4ms/step - loss: 14.1487 - mae: 2.5801 - val_loss: 11.3767 - val_mae: 2.4875\n",
            "Epoch 17/100\n",
            "10/10 [==============================] - 0s 3ms/step - loss: 13.5730 - mae: 2.5399 - val_loss: 9.8366 - val_mae: 2.2537\n",
            "Epoch 18/100\n",
            "10/10 [==============================] - 0s 6ms/step - loss: 13.3380 - mae: 2.4743 - val_loss: 10.2534 - val_mae: 2.3513\n",
            "Epoch 19/100\n",
            "10/10 [==============================] - 0s 4ms/step - loss: 13.2191 - mae: 2.5240 - val_loss: 9.4234 - val_mae: 2.2435\n",
            "Epoch 20/100\n",
            "10/10 [==============================] - 0s 4ms/step - loss: 12.6353 - mae: 2.4464 - val_loss: 9.1674 - val_mae: 2.2046\n",
            "Epoch 21/100\n",
            "10/10 [==============================] - 0s 4ms/step - loss: 12.1251 - mae: 2.3936 - val_loss: 9.3325 - val_mae: 2.2090\n",
            "Epoch 22/100\n",
            "10/10 [==============================] - 0s 4ms/step - loss: 11.8977 - mae: 2.4042 - val_loss: 9.1391 - val_mae: 2.1904\n",
            "Epoch 23/100\n",
            "10/10 [==============================] - 0s 4ms/step - loss: 11.4309 - mae: 2.3513 - val_loss: 9.2327 - val_mae: 2.2225\n",
            "Epoch 24/100\n",
            "10/10 [==============================] - 0s 5ms/step - loss: 11.4186 - mae: 2.3088 - val_loss: 9.4646 - val_mae: 2.2137\n",
            "Epoch 25/100\n",
            "10/10 [==============================] - 0s 5ms/step - loss: 11.2966 - mae: 2.3455 - val_loss: 9.5623 - val_mae: 2.2133\n",
            "Epoch 26/100\n",
            "10/10 [==============================] - 0s 3ms/step - loss: 11.3239 - mae: 2.3352 - val_loss: 9.3397 - val_mae: 2.2095\n",
            "Epoch 27/100\n",
            "10/10 [==============================] - 0s 5ms/step - loss: 10.9282 - mae: 2.2946 - val_loss: 9.6066 - val_mae: 2.2504\n",
            "Epoch 28/100\n",
            "10/10 [==============================] - 0s 5ms/step - loss: 10.8088 - mae: 2.3125 - val_loss: 10.0747 - val_mae: 2.2888\n",
            "Epoch 29/100\n",
            "10/10 [==============================] - 0s 4ms/step - loss: 10.6100 - mae: 2.3154 - val_loss: 9.0315 - val_mae: 2.1942\n",
            "Epoch 30/100\n",
            "10/10 [==============================] - 0s 6ms/step - loss: 10.3206 - mae: 2.2666 - val_loss: 9.1111 - val_mae: 2.2070\n",
            "Epoch 31/100\n",
            "10/10 [==============================] - 0s 5ms/step - loss: 10.2541 - mae: 2.2378 - val_loss: 9.1771 - val_mae: 2.2261\n",
            "Epoch 32/100\n",
            "10/10 [==============================] - 0s 3ms/step - loss: 10.2178 - mae: 2.2570 - val_loss: 9.6963 - val_mae: 2.2687\n",
            "Epoch 33/100\n",
            "10/10 [==============================] - 0s 4ms/step - loss: 10.1990 - mae: 2.2366 - val_loss: 9.2820 - val_mae: 2.2383\n",
            "Epoch 34/100\n",
            "10/10 [==============================] - 0s 4ms/step - loss: 9.9224 - mae: 2.2008 - val_loss: 9.8291 - val_mae: 2.2682\n",
            "Epoch 35/100\n",
            "10/10 [==============================] - 0s 4ms/step - loss: 9.8418 - mae: 2.2190 - val_loss: 9.8751 - val_mae: 2.2680\n",
            "Epoch 36/100\n",
            "10/10 [==============================] - 0s 4ms/step - loss: 9.6956 - mae: 2.2062 - val_loss: 10.0381 - val_mae: 2.3307\n",
            "Epoch 37/100\n",
            "10/10 [==============================] - 0s 4ms/step - loss: 9.6691 - mae: 2.2076 - val_loss: 9.8908 - val_mae: 2.2922\n",
            "Epoch 38/100\n",
            "10/10 [==============================] - 0s 4ms/step - loss: 9.4417 - mae: 2.1764 - val_loss: 9.8712 - val_mae: 2.3068\n",
            "Epoch 39/100\n",
            "10/10 [==============================] - 0s 3ms/step - loss: 9.3756 - mae: 2.1847 - val_loss: 9.6599 - val_mae: 2.2768\n",
            "Epoch 40/100\n",
            "10/10 [==============================] - 0s 4ms/step - loss: 9.4296 - mae: 2.1896 - val_loss: 9.7394 - val_mae: 2.3023\n",
            "Epoch 41/100\n",
            "10/10 [==============================] - 0s 6ms/step - loss: 9.2955 - mae: 2.1588 - val_loss: 10.8182 - val_mae: 2.3583\n",
            "Epoch 42/100\n",
            "10/10 [==============================] - 0s 4ms/step - loss: 9.0090 - mae: 2.1733 - val_loss: 10.6784 - val_mae: 2.4229\n",
            "Epoch 43/100\n",
            "10/10 [==============================] - 0s 4ms/step - loss: 9.1104 - mae: 2.1561 - val_loss: 9.8188 - val_mae: 2.3384\n",
            "Epoch 44/100\n",
            "10/10 [==============================] - 0s 6ms/step - loss: 9.1659 - mae: 2.1518 - val_loss: 10.1230 - val_mae: 2.3271\n",
            "Epoch 45/100\n",
            "10/10 [==============================] - 0s 4ms/step - loss: 9.0392 - mae: 2.1388 - val_loss: 10.3550 - val_mae: 2.3834\n",
            "Epoch 46/100\n",
            "10/10 [==============================] - 0s 4ms/step - loss: 8.9410 - mae: 2.1004 - val_loss: 10.1056 - val_mae: 2.3424\n",
            "Epoch 47/100\n",
            "10/10 [==============================] - 0s 4ms/step - loss: 8.7135 - mae: 2.0781 - val_loss: 11.0393 - val_mae: 2.3935\n",
            "Epoch 48/100\n",
            "10/10 [==============================] - 0s 6ms/step - loss: 8.9817 - mae: 2.1393 - val_loss: 10.9451 - val_mae: 2.3972\n",
            "Epoch 49/100\n",
            "10/10 [==============================] - 0s 4ms/step - loss: 8.5278 - mae: 2.0613 - val_loss: 12.1423 - val_mae: 2.4965\n",
            "Epoch 50/100\n",
            "10/10 [==============================] - 0s 5ms/step - loss: 8.6911 - mae: 2.1369 - val_loss: 10.6562 - val_mae: 2.3769\n",
            "Epoch 51/100\n",
            "10/10 [==============================] - 0s 4ms/step - loss: 8.5663 - mae: 2.1001 - val_loss: 10.3178 - val_mae: 2.4270\n",
            "Epoch 52/100\n",
            "10/10 [==============================] - 0s 4ms/step - loss: 8.4884 - mae: 2.0632 - val_loss: 10.8929 - val_mae: 2.4113\n",
            "Epoch 53/100\n",
            "10/10 [==============================] - 0s 4ms/step - loss: 8.3182 - mae: 2.0405 - val_loss: 12.8957 - val_mae: 2.5274\n",
            "Epoch 54/100\n",
            "10/10 [==============================] - 0s 4ms/step - loss: 8.5717 - mae: 2.1420 - val_loss: 10.5227 - val_mae: 2.4066\n",
            "Epoch 55/100\n",
            "10/10 [==============================] - 0s 4ms/step - loss: 8.5186 - mae: 2.0796 - val_loss: 10.8799 - val_mae: 2.4315\n",
            "Epoch 56/100\n",
            "10/10 [==============================] - 0s 3ms/step - loss: 8.4005 - mae: 2.0631 - val_loss: 11.1523 - val_mae: 2.4575\n",
            "Epoch 57/100\n",
            "10/10 [==============================] - 0s 3ms/step - loss: 8.2616 - mae: 2.0426 - val_loss: 12.0189 - val_mae: 2.5096\n",
            "Epoch 58/100\n",
            "10/10 [==============================] - 0s 4ms/step - loss: 8.2238 - mae: 2.0750 - val_loss: 10.8058 - val_mae: 2.4458\n",
            "Epoch 59/100\n",
            "10/10 [==============================] - 0s 4ms/step - loss: 8.2229 - mae: 2.0104 - val_loss: 11.5226 - val_mae: 2.4253\n",
            "Epoch 60/100\n",
            "10/10 [==============================] - 0s 4ms/step - loss: 8.1652 - mae: 2.0539 - val_loss: 11.1692 - val_mae: 2.4650\n",
            "Epoch 61/100\n",
            "10/10 [==============================] - 0s 3ms/step - loss: 7.9781 - mae: 2.0157 - val_loss: 11.2512 - val_mae: 2.4410\n",
            "Epoch 62/100\n",
            "10/10 [==============================] - 0s 4ms/step - loss: 7.9634 - mae: 2.0326 - val_loss: 11.2064 - val_mae: 2.4765\n",
            "Epoch 63/100\n",
            "10/10 [==============================] - 0s 3ms/step - loss: 7.9761 - mae: 1.9881 - val_loss: 11.2441 - val_mae: 2.4334\n",
            "Epoch 64/100\n",
            "10/10 [==============================] - 0s 3ms/step - loss: 7.7827 - mae: 2.0140 - val_loss: 11.0186 - val_mae: 2.5180\n",
            "Epoch 65/100\n",
            "10/10 [==============================] - 0s 4ms/step - loss: 7.8843 - mae: 2.0217 - val_loss: 11.0249 - val_mae: 2.4845\n",
            "Epoch 66/100\n",
            "10/10 [==============================] - 0s 4ms/step - loss: 7.9058 - mae: 1.9792 - val_loss: 10.7414 - val_mae: 2.4378\n",
            "Epoch 67/100\n",
            "10/10 [==============================] - 0s 4ms/step - loss: 7.8468 - mae: 2.0081 - val_loss: 11.2744 - val_mae: 2.4423\n",
            "Epoch 68/100\n",
            "10/10 [==============================] - 0s 4ms/step - loss: 7.5752 - mae: 1.9815 - val_loss: 11.0490 - val_mae: 2.4353\n",
            "Epoch 69/100\n",
            "10/10 [==============================] - 0s 6ms/step - loss: 7.7632 - mae: 1.9845 - val_loss: 11.0473 - val_mae: 2.4575\n",
            "Epoch 70/100\n",
            "10/10 [==============================] - 0s 4ms/step - loss: 7.5782 - mae: 1.9467 - val_loss: 10.8195 - val_mae: 2.4443\n",
            "Epoch 71/100\n",
            "10/10 [==============================] - 0s 4ms/step - loss: 7.5669 - mae: 1.9522 - val_loss: 11.2569 - val_mae: 2.4526\n",
            "Epoch 72/100\n",
            "10/10 [==============================] - 0s 4ms/step - loss: 7.5678 - mae: 1.9449 - val_loss: 11.4452 - val_mae: 2.4871\n",
            "Epoch 73/100\n",
            "10/10 [==============================] - 0s 7ms/step - loss: 7.6307 - mae: 1.9774 - val_loss: 10.9481 - val_mae: 2.4303\n",
            "Epoch 74/100\n",
            "10/10 [==============================] - 0s 4ms/step - loss: 7.5582 - mae: 1.9779 - val_loss: 11.2703 - val_mae: 2.4555\n",
            "Epoch 75/100\n",
            "10/10 [==============================] - 0s 6ms/step - loss: 7.6155 - mae: 1.9944 - val_loss: 11.5177 - val_mae: 2.5154\n",
            "Epoch 76/100\n",
            "10/10 [==============================] - 0s 4ms/step - loss: 7.6123 - mae: 1.9508 - val_loss: 10.9443 - val_mae: 2.4666\n",
            "Epoch 77/100\n",
            "10/10 [==============================] - 0s 4ms/step - loss: 7.4599 - mae: 1.9450 - val_loss: 12.0903 - val_mae: 2.5149\n",
            "Epoch 78/100\n",
            "10/10 [==============================] - 0s 4ms/step - loss: 7.4296 - mae: 1.9632 - val_loss: 11.5154 - val_mae: 2.4665\n",
            "Epoch 79/100\n",
            "10/10 [==============================] - 0s 5ms/step - loss: 7.3779 - mae: 1.9516 - val_loss: 11.0336 - val_mae: 2.4465\n",
            "Epoch 80/100\n",
            "10/10 [==============================] - 0s 4ms/step - loss: 7.3226 - mae: 1.9694 - val_loss: 11.1659 - val_mae: 2.4770\n",
            "Epoch 81/100\n",
            "10/10 [==============================] - 0s 4ms/step - loss: 7.4046 - mae: 1.9572 - val_loss: 11.1197 - val_mae: 2.4463\n",
            "Epoch 82/100\n",
            "10/10 [==============================] - 0s 6ms/step - loss: 7.2160 - mae: 1.9326 - val_loss: 11.2091 - val_mae: 2.4395\n",
            "Epoch 83/100\n",
            "10/10 [==============================] - 0s 4ms/step - loss: 7.1788 - mae: 1.9232 - val_loss: 11.3055 - val_mae: 2.4540\n",
            "Epoch 84/100\n",
            "10/10 [==============================] - 0s 6ms/step - loss: 7.1227 - mae: 1.9188 - val_loss: 12.4297 - val_mae: 2.4729\n",
            "Epoch 85/100\n",
            "10/10 [==============================] - 0s 4ms/step - loss: 7.3360 - mae: 1.9370 - val_loss: 11.3292 - val_mae: 2.4649\n",
            "Epoch 86/100\n",
            "10/10 [==============================] - 0s 5ms/step - loss: 7.1511 - mae: 1.9144 - val_loss: 12.6238 - val_mae: 2.5125\n",
            "Epoch 87/100\n",
            "10/10 [==============================] - 0s 5ms/step - loss: 7.2362 - mae: 1.9547 - val_loss: 11.6107 - val_mae: 2.4669\n",
            "Epoch 88/100\n",
            "10/10 [==============================] - 0s 4ms/step - loss: 7.0221 - mae: 1.9044 - val_loss: 11.3352 - val_mae: 2.4937\n",
            "Epoch 89/100\n",
            "10/10 [==============================] - 0s 5ms/step - loss: 7.0396 - mae: 1.9170 - val_loss: 11.5825 - val_mae: 2.5152\n",
            "Epoch 90/100\n",
            "10/10 [==============================] - 0s 4ms/step - loss: 7.2408 - mae: 1.9192 - val_loss: 11.4595 - val_mae: 2.4605\n",
            "Epoch 91/100\n",
            "10/10 [==============================] - 0s 4ms/step - loss: 6.9379 - mae: 1.8754 - val_loss: 11.3847 - val_mae: 2.4667\n",
            "Epoch 92/100\n",
            "10/10 [==============================] - 0s 5ms/step - loss: 6.9433 - mae: 1.8777 - val_loss: 11.7018 - val_mae: 2.5207\n",
            "Epoch 93/100\n",
            "10/10 [==============================] - 0s 4ms/step - loss: 7.0851 - mae: 1.8838 - val_loss: 12.7157 - val_mae: 2.4965\n",
            "Epoch 94/100\n",
            "10/10 [==============================] - 0s 4ms/step - loss: 6.8661 - mae: 1.9101 - val_loss: 11.5646 - val_mae: 2.4839\n",
            "Epoch 95/100\n",
            "10/10 [==============================] - 0s 4ms/step - loss: 6.8830 - mae: 1.8803 - val_loss: 11.8982 - val_mae: 2.5192\n",
            "Epoch 96/100\n",
            "10/10 [==============================] - 0s 4ms/step - loss: 6.6698 - mae: 1.8910 - val_loss: 11.6438 - val_mae: 2.4970\n",
            "Epoch 97/100\n",
            "10/10 [==============================] - 0s 4ms/step - loss: 6.8864 - mae: 1.8903 - val_loss: 12.0042 - val_mae: 2.5136\n",
            "Epoch 98/100\n",
            "10/10 [==============================] - 0s 6ms/step - loss: 6.8594 - mae: 1.8691 - val_loss: 11.8582 - val_mae: 2.4998\n",
            "Epoch 99/100\n",
            "10/10 [==============================] - 0s 6ms/step - loss: 6.8567 - mae: 1.8991 - val_loss: 11.4934 - val_mae: 2.4822\n",
            "Epoch 100/100\n",
            "10/10 [==============================] - 0s 3ms/step - loss: 6.8060 - mae: 1.8647 - val_loss: 11.3940 - val_mae: 2.5098\n"
          ]
        }
      ]
    },
    {
      "cell_type": "code",
      "metadata": {
        "id": "C9bu7qX8DqRO",
        "colab": {
          "base_uri": "https://localhost:8080/",
          "height": 530
        },
        "outputId": "284ec897-5690-4d82-8e60-593ff5b77c47"
      },
      "source": [
        "# Plotando os resultados obtidos\n",
        "fig, axes = plt.subplots(1, 2, squeeze = False, figsize = (16,8))\n",
        "\n",
        "history_dict = hist.history\n",
        "\n",
        "# Loss - MSE\n",
        "train_loss_values = history_dict[\"loss\"]\n",
        "val_loss_values = history_dict[\"val_loss\"]\n",
        "\n",
        "# Epochs\n",
        "epochs = range(1, len(train_loss_values) + 1)\n",
        "\n",
        "# Metrica - MAE\n",
        "train_mae_values = history_dict[\"mae\"]\n",
        "val_mae_values = history_dict[\"val_mae\"]\n",
        "\n",
        "ax = axes.flat[0]\n",
        "ax.plot(epochs, train_loss_values, \"r\", label = \"Training MSE\")\n",
        "ax.plot(epochs, val_loss_values, \"b\", label = \"Validation MSE\")\n",
        "ax.set_title(\"Training and Validation MSE\")\n",
        "ax.set_xlabel(\"Epochs\")\n",
        "ax.set_ylabel(\"MSE\")\n",
        "ax.legend()\n",
        "\n",
        "ax = axes.flat[1]\n",
        "ax.plot(epochs, train_mae_values, \"r\", label=\"Training MAE\")\n",
        "ax.plot(epochs, val_mae_values, \"b\", label=\"Validation MAE\")\n",
        "ax.set_title(\"Training and Validation MAE\")\n",
        "ax.set_xlabel(\"Epochs\")\n",
        "ax.set_ylabel(\"MSE\")\n",
        "ax.legend()"
      ],
      "id": "C9bu7qX8DqRO",
      "execution_count": 12,
      "outputs": [
        {
          "output_type": "execute_result",
          "data": {
            "text/plain": [
              "<matplotlib.legend.Legend at 0x7f097d0e1e50>"
            ]
          },
          "metadata": {},
          "execution_count": 12
        },
        {
          "output_type": "display_data",
          "data": {
            "image/png": "[encoded data removed]",
            "text/plain": [
              "<Figure size 1152x576 with 2 Axes>"
            ]
          },
          "metadata": {
            "needs_background": "light"
          }
        }
      ]
    },
    {
      "cell_type": "markdown",
      "metadata": {
        "id": "ruSqlthxDqRP"
      },
      "source": [
        "**g. Comente os resultados obtidos nos gráficos acima. Houve overfitting? Se sim, o que pode ser feito para melhorar a qualidade do modelo?**"
      ],
      "id": "ruSqlthxDqRP"
    },
    {
      "cell_type": "markdown",
      "metadata": {
        "id": "q864cYu46wxt"
      },
      "source": [
        "<font color='yellow'>\n",
        "Com base nos gráficos, podemos observer a relação em termos do erro quadrático por epocas, percebe-se que o erro tende a diminuir(não linearmente) com o passar das epocas e ainda podemos comparar os resultados obtidos com os dados de treino e de teste. No caso ideial, desejamos que os gráficos sejam os mais próximos possíveis. Ainda de acordo com o gráfico, próximo as epocas 40 percebe-se um leve incremento das perdas, caracterizando um overfitting e podemos evitar este problema eliminando algumas informações passadas a rede"
      ],
      "id": "q864cYu46wxt"
    },
    {
      "cell_type": "code",
      "metadata": {
        "id": "JWGU7870DqRP"
      },
      "source": [
        ""
      ],
      "id": "JWGU7870DqRP",
      "execution_count": null,
      "outputs": []
    },
    {
      "cell_type": "markdown",
      "metadata": {
        "id": "wyU6dr2BDqRP"
      },
      "source": [
        "**h. Modifique hiperparâmetros do modelo como o número de camadas, as funções de ativação, o número de épocas realizas e o tamanho dos lotes. Comente os resultados obtidos a partir das mudanças realizadas.**"
      ],
      "id": "wyU6dr2BDqRP"
    },
    {
      "cell_type": "markdown",
      "metadata": {
        "id": "vbZQ9Allgirj"
      },
      "source": [
        "<font color='yellow'>\n",
        "Observe que modifiquei os hiperâmetros nos blocos anteriores\n",
        "</font>"
      ],
      "id": "vbZQ9Allgirj"
    },
    {
      "cell_type": "markdown",
      "metadata": {
        "id": "QwfW18QyDqRP"
      },
      "source": [
        "### 1.4 Teste do modelo\n",
        "\n",
        "O teste do modelo pode ser realizado a partir da função **evaluate**, que recebe os dados de treino e retorna o valor de loss calculado para esse conjunto e os valores de cada métrica da lista fornecida durante a compilação do modelo. \n",
        "\n",
        "* É uma prática comum realizar ajustes no modelo com base no conjunto de validação e só utilizar o conjunto de testes após a definição dos hiperparâmetros definitivos.\n",
        "* Como os hiperparâmetros são ajustados a partir dos resultados obtidos para o conjunto de validação, o modelo pode acabar. sobreajustando aos dados de validação, então é interessante mudar os dados desse conjunto com frequência.\n",
        "* Para mudar os dados de validação basta alterar a semente na função train_test_split.\n",
        "* Crie um novo modelo do zero após a realização de mudanças nos conjuntos de treino/validação."
      ],
      "id": "QwfW18QyDqRP"
    },
    {
      "cell_type": "code",
      "metadata": {
        "id": "ddBXpOLvDqRQ",
        "colab": {
          "base_uri": "https://localhost:8080/"
        },
        "outputId": "864c776d-ba48-443c-d180-ccc6c6475a13"
      },
      "source": [
        "test_mse, test_mae = model.evaluate( test_data, test_targets)\n",
        "\n",
        "# Observa-se que os dados de saída são normalizados em milhares de dólares, \n",
        "# então é necessário multiplicar por 1000 para obter os valores absolutos\n",
        "print(\"Erro médio absoluto de teste: ${:.2f}\".format(1000*test_mae))"
      ],
      "id": "ddBXpOLvDqRQ",
      "execution_count": 15,
      "outputs": [
        {
          "output_type": "stream",
          "name": "stdout",
          "text": [
            "4/4 [==============================] - 0s 3ms/step - loss: 20.1080 - mae: 2.7468\n",
            "Erro médio absoluto de teste: $2746.80\n"
          ]
        }
      ]
    },
    {
      "cell_type": "markdown",
      "metadata": {
        "id": "VF5mKk5tDqRQ"
      },
      "source": [
        "**i. Verifique novamente a faixa de valores dos gabaritos no banco de dados. Considerando a extensão dessa faixa de valores, pode-se dizer que as predições do modelo são significativas?**"
      ],
      "id": "VF5mKk5tDqRQ"
    },
    {
      "cell_type": "code",
      "metadata": {
        "id": "Sl7rvC9LDqRQ"
      },
      "source": [
        ""
      ],
      "id": "Sl7rvC9LDqRQ",
      "execution_count": null,
      "outputs": []
    },
    {
      "cell_type": "markdown",
      "metadata": {
        "id": "KGi9MobjDqRQ"
      },
      "source": [
        "## Referências\n",
        "* Chollet, Francois. Deep learning with Python. Simon and Schuster, 2017."
      ],
      "id": "KGi9MobjDqRQ"
    }
  ]
}